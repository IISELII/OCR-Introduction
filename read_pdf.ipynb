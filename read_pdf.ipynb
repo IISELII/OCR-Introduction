{
 "cells": [
  {
   "cell_type": "markdown",
   "id": "59a409bc-97ac-48f5-adb1-2a4f29892e8c",
   "metadata": {},
   "source": [
    "# Read a PDF with PDF Plumber"
   ]
  },
  {
   "cell_type": "code",
   "execution_count": 68,
   "id": "e425a90c-2b94-4114-a0d2-9af4a45f981a",
   "metadata": {},
   "outputs": [],
   "source": [
    "# import des librairies\n",
    "import pdfplumber\n",
    "import re\n",
    "import pandas as pd\n",
    "import numpy as np\n",
    "\n",
    "# connection bdd\n",
    "from sqlalchemy import create_engine, Column, String, Float, Integer, MetaData, Table"
   ]
  },
  {
   "cell_type": "code",
   "execution_count": 76,
   "id": "60215e34-37d6-4b5d-8c73-c53d656f4e8f",
   "metadata": {},
   "outputs": [],
   "source": [
    "# connexion à la bdd avec sqlalchemy\n",
    "username = 'root'\n",
    "password = 'selmane2003'\n",
    "host = 'localhost'\n",
    "port ='3306'\n",
    "dbname = 'ocr_database'\n",
    "\n",
    "connection_string = f\"mysql+mysqlconnector://{username}:{password}@{host}:{port}/{dbname}\"\n",
    "\n",
    "engine = create_engine(connection_string)"
   ]
  },
  {
   "cell_type": "code",
   "execution_count": 79,
   "id": "d8b40be3",
   "metadata": {},
   "outputs": [
    {
     "data": {
      "text/html": [
       "<div>\n",
       "<style scoped>\n",
       "    .dataframe tbody tr th:only-of-type {\n",
       "        vertical-align: middle;\n",
       "    }\n",
       "\n",
       "    .dataframe tbody tr th {\n",
       "        vertical-align: top;\n",
       "    }\n",
       "\n",
       "    .dataframe thead th {\n",
       "        text-align: right;\n",
       "    }\n",
       "</style>\n",
       "<table border=\"1\" class=\"dataframe\">\n",
       "  <thead>\n",
       "    <tr style=\"text-align: right;\">\n",
       "      <th></th>\n",
       "      <th>name</th>\n",
       "      <th>mpg</th>\n",
       "      <th>cyl</th>\n",
       "      <th>disp</th>\n",
       "      <th>hp</th>\n",
       "      <th>drat</th>\n",
       "      <th>wt</th>\n",
       "      <th>qsec</th>\n",
       "      <th>vs</th>\n",
       "      <th>am</th>\n",
       "      <th>gear</th>\n",
       "      <th>carb</th>\n",
       "    </tr>\n",
       "  </thead>\n",
       "  <tbody>\n",
       "    <tr>\n",
       "      <th>0</th>\n",
       "      <td>Mazda RX4</td>\n",
       "      <td>21.0</td>\n",
       "      <td>6</td>\n",
       "      <td>160.0</td>\n",
       "      <td>110</td>\n",
       "      <td>3.90</td>\n",
       "      <td>2.620</td>\n",
       "      <td>16.46</td>\n",
       "      <td>0</td>\n",
       "      <td>1</td>\n",
       "      <td>4</td>\n",
       "      <td>4</td>\n",
       "    </tr>\n",
       "    <tr>\n",
       "      <th>1</th>\n",
       "      <td>Mazda RX4 Wag</td>\n",
       "      <td>21.0</td>\n",
       "      <td>6</td>\n",
       "      <td>160.0</td>\n",
       "      <td>110</td>\n",
       "      <td>3.90</td>\n",
       "      <td>2.875</td>\n",
       "      <td>17.02</td>\n",
       "      <td>0</td>\n",
       "      <td>1</td>\n",
       "      <td>4</td>\n",
       "      <td>4</td>\n",
       "    </tr>\n",
       "    <tr>\n",
       "      <th>2</th>\n",
       "      <td>Datsun 710</td>\n",
       "      <td>22.8</td>\n",
       "      <td>4</td>\n",
       "      <td>108.0</td>\n",
       "      <td>93</td>\n",
       "      <td>3.85</td>\n",
       "      <td>2.320</td>\n",
       "      <td>18.61</td>\n",
       "      <td>1</td>\n",
       "      <td>1</td>\n",
       "      <td>4</td>\n",
       "      <td>1</td>\n",
       "    </tr>\n",
       "    <tr>\n",
       "      <th>3</th>\n",
       "      <td>Hornet 4 Drive</td>\n",
       "      <td>21.4</td>\n",
       "      <td>6</td>\n",
       "      <td>258.0</td>\n",
       "      <td>110</td>\n",
       "      <td>3.08</td>\n",
       "      <td>3.215</td>\n",
       "      <td>19.44</td>\n",
       "      <td>1</td>\n",
       "      <td>0</td>\n",
       "      <td>3</td>\n",
       "      <td>1</td>\n",
       "    </tr>\n",
       "    <tr>\n",
       "      <th>4</th>\n",
       "      <td>Hornet Sportabout</td>\n",
       "      <td>18.7</td>\n",
       "      <td>8</td>\n",
       "      <td>360.0</td>\n",
       "      <td>175</td>\n",
       "      <td>3.15</td>\n",
       "      <td>3.440</td>\n",
       "      <td>17.02</td>\n",
       "      <td>0</td>\n",
       "      <td>0</td>\n",
       "      <td>3</td>\n",
       "      <td>2</td>\n",
       "    </tr>\n",
       "  </tbody>\n",
       "</table>\n",
       "</div>"
      ],
      "text/plain": [
       "                name   mpg cyl   disp   hp  drat     wt   qsec vs am gear carb\n",
       "0          Mazda RX4  21.0   6  160.0  110  3.90  2.620  16.46  0  1    4    4\n",
       "1      Mazda RX4 Wag  21.0   6  160.0  110  3.90  2.875  17.02  0  1    4    4\n",
       "2         Datsun 710  22.8   4  108.0   93  3.85  2.320  18.61  1  1    4    1\n",
       "3     Hornet 4 Drive  21.4   6  258.0  110  3.08  3.215  19.44  1  0    3    1\n",
       "4  Hornet Sportabout  18.7   8  360.0  175  3.15  3.440  17.02  0  0    3    2"
      ]
     },
     "execution_count": 79,
     "metadata": {},
     "output_type": "execute_result"
    }
   ],
   "source": [
    "# import de données \n",
    "pdf = pdfplumber.open('data/pdf-data.pdf')\n",
    "page = pdf.pages[0]\n",
    "table_settings = {\n",
    "    \"vertical_strategy\": \"text\",\n",
    "    \"horizontal_strategy\": \"text\"\n",
    "}\n",
    "table = page.extract_table(table_settings)\n",
    "df = pd.DataFrame(table[1:], columns=table[0])\n",
    "df.rename(columns={'': 'name'}, inplace=True)\n",
    "df.head()"
   ]
  },
  {
   "cell_type": "code",
   "execution_count": 80,
   "id": "0b1589c7",
   "metadata": {},
   "outputs": [
    {
     "data": {
      "text/plain": [
       "32"
      ]
     },
     "execution_count": 80,
     "metadata": {},
     "output_type": "execute_result"
    }
   ],
   "source": [
    "table_name='pdf_table'\n",
    "df.to_sql(name=table_name, con=engine, if_exists='replace', index=False)"
   ]
  }
 ],
 "metadata": {
  "kernelspec": {
   "display_name": "Python 3.8.12 ('OCR')",
   "language": "python",
   "name": "python3"
  },
  "language_info": {
   "codemirror_mode": {
    "name": "ipython",
    "version": 3
   },
   "file_extension": ".py",
   "mimetype": "text/x-python",
   "name": "python",
   "nbconvert_exporter": "python",
   "pygments_lexer": "ipython3",
   "version": "3.8.12"
  },
  "vscode": {
   "interpreter": {
    "hash": "125efc3d4e59f4c4f41656ddc1206eed5511613bc0b5c5d58c24baa134d0bfab"
   }
  }
 },
 "nbformat": 4,
 "nbformat_minor": 5
}
